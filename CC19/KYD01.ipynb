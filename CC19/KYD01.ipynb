{
  "nbformat": 4,
  "nbformat_minor": 0,
  "metadata": {
    "colab": {
      "name": "KYD01.ipynb",
      "provenance": []
    },
    "kernelspec": {
      "name": "python3",
      "display_name": "Python 3"
    }
  },
  "cells": [
    {
      "cell_type": "code",
      "metadata": {
        "id": "SdRR2sGmz30T",
        "colab_type": "code",
        "colab": {}
      },
      "source": [
        "import numpy as np\n",
        "import pandas as pd\n",
        "import matplotlib.pyplot as plt\n",
        "%matplotlib inline"
      ],
      "execution_count": 0,
      "outputs": []
    },
    {
      "cell_type": "code",
      "metadata": {
        "id": "7gV9upQW017O",
        "colab_type": "code",
        "colab": {}
      },
      "source": [
        "orderDetails = pd.read_csv('order_details.csv')\n",
        "products = pd.read_csv('products.csv')"
      ],
      "execution_count": 0,
      "outputs": []
    },
    {
      "cell_type": "code",
      "metadata": {
        "id": "UKitTXbP1gfv",
        "colab_type": "code",
        "outputId": "414e1a1a-590d-460d-c59c-239c43d91f16",
        "colab": {
          "base_uri": "https://localhost:8080/",
          "height": 309
        }
      },
      "source": [
        "xd = orderDetails.groupby('ProductID').sum()\n",
        "mergedDf = pd.merge(xd,products, on=\"ProductID\")\n",
        "mergedDf.head()"
      ],
      "execution_count": 0,
      "outputs": [
        {
          "output_type": "execute_result",
          "data": {
            "text/html": [
              "<div>\n",
              "<style scoped>\n",
              "    .dataframe tbody tr th:only-of-type {\n",
              "        vertical-align: middle;\n",
              "    }\n",
              "\n",
              "    .dataframe tbody tr th {\n",
              "        vertical-align: top;\n",
              "    }\n",
              "\n",
              "    .dataframe thead th {\n",
              "        text-align: right;\n",
              "    }\n",
              "</style>\n",
              "<table border=\"1\" class=\"dataframe\">\n",
              "  <thead>\n",
              "    <tr style=\"text-align: right;\">\n",
              "      <th></th>\n",
              "      <th>ProductID</th>\n",
              "      <th>OrderID</th>\n",
              "      <th>UnitPrice_x</th>\n",
              "      <th>Quantity</th>\n",
              "      <th>Discount</th>\n",
              "      <th>ProductName</th>\n",
              "      <th>SupplierID</th>\n",
              "      <th>CategoryID</th>\n",
              "      <th>QuantityPerUnit</th>\n",
              "      <th>UnitPrice_y</th>\n",
              "      <th>UnitsInStock</th>\n",
              "      <th>UnitsOnOrder</th>\n",
              "      <th>ReorderLevel</th>\n",
              "      <th>Discontinued</th>\n",
              "    </tr>\n",
              "  </thead>\n",
              "  <tbody>\n",
              "    <tr>\n",
              "      <th>0</th>\n",
              "      <td>1</td>\n",
              "      <td>406841</td>\n",
              "      <td>651.6</td>\n",
              "      <td>828</td>\n",
              "      <td>0</td>\n",
              "      <td>Chai</td>\n",
              "      <td>1</td>\n",
              "      <td>1</td>\n",
              "      <td>10 boxes x 20 bags</td>\n",
              "      <td>18.00</td>\n",
              "      <td>39</td>\n",
              "      <td>0</td>\n",
              "      <td>10</td>\n",
              "      <td>0</td>\n",
              "    </tr>\n",
              "    <tr>\n",
              "      <th>1</th>\n",
              "      <td>2</td>\n",
              "      <td>470965</td>\n",
              "      <td>786.6</td>\n",
              "      <td>1057</td>\n",
              "      <td>0</td>\n",
              "      <td>Chang</td>\n",
              "      <td>1</td>\n",
              "      <td>1</td>\n",
              "      <td>24 - 12 oz bottles</td>\n",
              "      <td>19.00</td>\n",
              "      <td>17</td>\n",
              "      <td>40</td>\n",
              "      <td>25</td>\n",
              "      <td>0</td>\n",
              "    </tr>\n",
              "    <tr>\n",
              "      <th>2</th>\n",
              "      <td>3</td>\n",
              "      <td>128318</td>\n",
              "      <td>114.0</td>\n",
              "      <td>328</td>\n",
              "      <td>0</td>\n",
              "      <td>Aniseed Syrup</td>\n",
              "      <td>1</td>\n",
              "      <td>2</td>\n",
              "      <td>12 - 550 ml bottles</td>\n",
              "      <td>10.00</td>\n",
              "      <td>13</td>\n",
              "      <td>70</td>\n",
              "      <td>25</td>\n",
              "      <td>0</td>\n",
              "    </tr>\n",
              "    <tr>\n",
              "      <th>3</th>\n",
              "      <td>4</td>\n",
              "      <td>212436</td>\n",
              "      <td>413.6</td>\n",
              "      <td>453</td>\n",
              "      <td>0</td>\n",
              "      <td>Chef Anton's Cajun Seasoning</td>\n",
              "      <td>2</td>\n",
              "      <td>2</td>\n",
              "      <td>48 - 6 oz jars</td>\n",
              "      <td>22.00</td>\n",
              "      <td>53</td>\n",
              "      <td>0</td>\n",
              "      <td>0</td>\n",
              "      <td>0</td>\n",
              "    </tr>\n",
              "    <tr>\n",
              "      <th>4</th>\n",
              "      <td>5</td>\n",
              "      <td>106418</td>\n",
              "      <td>196.1</td>\n",
              "      <td>298</td>\n",
              "      <td>0</td>\n",
              "      <td>Chef Anton's Gumbo Mix</td>\n",
              "      <td>2</td>\n",
              "      <td>2</td>\n",
              "      <td>36 boxes</td>\n",
              "      <td>21.35</td>\n",
              "      <td>0</td>\n",
              "      <td>0</td>\n",
              "      <td>0</td>\n",
              "      <td>1</td>\n",
              "    </tr>\n",
              "  </tbody>\n",
              "</table>\n",
              "</div>"
            ],
            "text/plain": [
              "   ProductID  OrderID  UnitPrice_x  ...  UnitsOnOrder  ReorderLevel Discontinued\n",
              "0          1   406841        651.6  ...             0            10            0\n",
              "1          2   470965        786.6  ...            40            25            0\n",
              "2          3   128318        114.0  ...            70            25            0\n",
              "3          4   212436        413.6  ...             0             0            0\n",
              "4          5   106418        196.1  ...             0             0            1\n",
              "\n",
              "[5 rows x 14 columns]"
            ]
          },
          "metadata": {
            "tags": []
          },
          "execution_count": 8
        }
      ]
    },
    {
      "cell_type": "code",
      "metadata": {
        "id": "WCG1m0_x2RLK",
        "colab_type": "code",
        "outputId": "d7e86e26-80fa-4c1b-f048-1af0b0f92b46",
        "colab": {
          "base_uri": "https://localhost:8080/",
          "height": 353
        }
      },
      "source": [
        "fig = plt.figure()\n",
        "axes = fig.add_axes([0,0,1,1])\n",
        "axes.scatter(mergedDf['UnitPrice_y'],mergedDf['Quantity'])"
      ],
      "execution_count": 0,
      "outputs": [
        {
          "output_type": "execute_result",
          "data": {
            "text/plain": [
              "<matplotlib.collections.PathCollection at 0x7fe97c3c3080>"
            ]
          },
          "metadata": {
            "tags": []
          },
          "execution_count": 10
        },
        {
          "output_type": "display_data",
          "data": {
            "image/png": "[encoded data removed]",
            "text/plain": [
              "<Figure size 432x288 with 1 Axes>"
            ]
          },
          "metadata": {
            "tags": []
          }
        }
      ]
    }
  ]
}